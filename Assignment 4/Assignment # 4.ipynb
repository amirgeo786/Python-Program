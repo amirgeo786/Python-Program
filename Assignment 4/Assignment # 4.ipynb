{
 "cells": [
  {
   "cell_type": "code",
   "execution_count": 2,
   "id": "996b7453",
   "metadata": {},
   "outputs": [
    {
     "name": "stdout",
     "output_type": "stream",
     "text": [
      "Please select operation -\n",
      "1. Add\n",
      "2. Subtract\n",
      "3. Multiply\n",
      "4. Divide\n",
      "5. Power\n",
      "\n",
      "Select operations form 1, 2, 3, 4, 5 :5\n",
      "Enter first number: 3\n",
      "Enter second number: 2\n",
      "3 ** 2 = 9\n"
     ]
    }
   ],
   "source": [
    "\"\"\"Python program for simple calculator\"\"\"\n",
    "  \n",
    "\"\"\"Function to add two numbers\"\"\"\n",
    "def add(num1, num2):\n",
    "    return num1 + num2\n",
    "  \n",
    "\"\"\"Function to subtract two numbers\"\"\"\n",
    "def subtract(num1, num2):\n",
    "    return num1 - num2\n",
    "  \n",
    "\"\"\"Function to multiply two numbers\"\"\"\n",
    "def multiply(num1, num2):\n",
    "    return num1 * num2\n",
    "  \n",
    "\"\"\"Function to divide two numbers\"\"\"\n",
    "def divide(num1, num2):\n",
    "    return num1 / num2\n",
    "\n",
    "\"\"\"Function to Power two numbers\"\"\"\n",
    "def pow(num1, num2):\n",
    "    return num1 ** num2\n",
    "\n",
    "print(\"Please select operation -\\n\" \\\n",
    "        \"1. Add\\n\" \\\n",
    "        \"2. Subtract\\n\" \\\n",
    "        \"3. Multiply\\n\" \\\n",
    "        \"4. Divide\\n\" \\\n",
    "        \"5. Power\\n\" )\n",
    "  \n",
    "\"\"\"Take input from the user\"\"\"\n",
    "select = int(input(\"Select operations form 1, 2, 3, 4, 5 :\"))\n",
    "  \n",
    "number_1 = int(input(\"Enter first number: \"))\n",
    "number_2 = int(input(\"Enter second number: \"))\n",
    "  \n",
    "if select == 1:\n",
    "    print(number_1, \"+\", number_2, \"=\",\n",
    "                    add(number_1, number_2))\n",
    "  \n",
    "elif select == 2:\n",
    "    print(number_1, \"-\", number_2, \"=\",\n",
    "                    subtract(number_1, number_2))\n",
    "  \n",
    "elif select == 3:\n",
    "    print(number_1, \"*\", number_2, \"=\",\n",
    "                    multiply(number_1, number_2))\n",
    "  \n",
    "elif select == 4:\n",
    "    print(number_1, \"/\", number_2, \"=\",\n",
    "                    divide(number_1, number_2))\n",
    "  \n",
    "elif select == 5:\n",
    "    print(number_1, \"**\", number_2, \"=\",\n",
    "                    pow(number_1, number_2))\n",
    "else:\n",
    "    print(\"Invalid input\")"
   ]
  },
  {
   "cell_type": "code",
   "execution_count": 3,
   "id": "31c768dd",
   "metadata": {},
   "outputs": [
    {
     "name": "stdout",
     "output_type": "stream",
     "text": [
      "4\n",
      "5\n"
     ]
    }
   ],
   "source": [
    "\"\"\" 2. Write a program to check if there is any numeric value in list using for loop.\"\"\"\n",
    "\n",
    "list = [\"abc\", \"def\", 4, \"ghi\", 5] \n",
    "for x in list: \n",
    "    if type(x) == int: \n",
    "        print(x)"
   ]
  },
  {
   "cell_type": "code",
   "execution_count": 4,
   "id": "a1b2ac10",
   "metadata": {},
   "outputs": [
    {
     "name": "stdout",
     "output_type": "stream",
     "text": [
      "{0: 10, 1: 20}\n",
      "{0: 10, 1: 20, 2: 30}\n"
     ]
    }
   ],
   "source": [
    "\"\"\" 3. Write a Python script to add a key to a dictionary.\"\"\"\n",
    "\n",
    "d = {0:10, 1:20}\n",
    "print(d)\n",
    "d.update({2:30})\n",
    "print(d);"
   ]
  },
  {
   "cell_type": "code",
   "execution_count": 5,
   "id": "71d376a5",
   "metadata": {},
   "outputs": [
    {
     "name": "stdout",
     "output_type": "stream",
     "text": [
      "60\n"
     ]
    }
   ],
   "source": [
    "\"\"\" 4. Write a Python program to sum all the numeric items in a dictionary.\"\"\"\n",
    "\n",
    "my_dict = {'data1':10,'data2':20,'data3':30}\n",
    "print(sum(my_dict.values()));"
   ]
  },
  {
   "cell_type": "code",
   "execution_count": 6,
   "id": "d655d5dd",
   "metadata": {},
   "outputs": [
    {
     "name": "stdout",
     "output_type": "stream",
     "text": [
      "[1, 'one']\n"
     ]
    }
   ],
   "source": [
    "\"\"\" 5. Write a program to identify duplicate values from list.\"\"\"\n",
    "\n",
    "list1=[1, 2, 3, \"one\", 5, 6, 1, \"one\"]\n",
    "x=set(list1)\n",
    "list2=[]\n",
    "for c in x:\n",
    "    if(list1.count(c)>1):\n",
    "        list2.append(c)\n",
    "print(list2);"
   ]
  },
  {
   "cell_type": "code",
   "execution_count": 7,
   "id": "232b24c5",
   "metadata": {},
   "outputs": [
    {
     "name": "stdout",
     "output_type": "stream",
     "text": [
      "Enter first number: 6\n",
      "Key is present in the dictionary\n"
     ]
    }
   ],
   "source": [
    "\"\"\" 6. Write a Python script to check if a given key already exists in a dictionary.\"\"\"\n",
    "\n",
    "d = {1: 10, 2: 20, 3: 30, 4: 40, 5: 50, 6: 60}\n",
    "def key_present(x):\n",
    "  if x in d:\n",
    "      print('Key is present in the dictionary')\n",
    "  else:\n",
    "      print('Key is not present in the dictionary')\n",
    "key_present (int(input(\"Enter first number: \")));"
   ]
  },
  {
   "cell_type": "code",
   "execution_count": null,
   "id": "371b8ff4",
   "metadata": {},
   "outputs": [],
   "source": []
  }
 ],
 "metadata": {
  "kernelspec": {
   "display_name": "Python 3 (ipykernel)",
   "language": "python",
   "name": "python3"
  },
  "language_info": {
   "codemirror_mode": {
    "name": "ipython",
    "version": 3
   },
   "file_extension": ".py",
   "mimetype": "text/x-python",
   "name": "python",
   "nbconvert_exporter": "python",
   "pygments_lexer": "ipython3",
   "version": "3.9.7"
  }
 },
 "nbformat": 4,
 "nbformat_minor": 5
}
