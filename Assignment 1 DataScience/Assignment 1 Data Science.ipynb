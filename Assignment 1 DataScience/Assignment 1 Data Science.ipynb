{
 "cells": [
  {
   "cell_type": "code",
   "execution_count": 1,
   "id": "27e65434",
   "metadata": {},
   "outputs": [
    {
     "name": "stdout",
     "output_type": "stream",
     "text": [
      "Twinkle, twinkle, little star, \n",
      "\t How I wonder what you are! \n",
      "\t\t Up above the world so high,\n",
      " \t\t Like a diamond in the sky.\n",
      "Twinkle, twinkle, little star,  \n",
      "\t How I wonder what you are!\n"
     ]
    }
   ],
   "source": [
    "\"\"\" Q1. Write a Python program to print the following string in a specific format (see the\n",
    "output).\n",
    "\n",
    "Twinkle, twinkle, little star,\n",
    "How I wonder what you are!\n",
    "Up above the world so high,\n",
    "Like a diamond in the sky.\n",
    "Twinkle, twinkle, little star,\n",
    "How I wonder what you are\n",
    "\"\"\"\n",
    "print(\"Twinkle, twinkle, little star, \\n\\t How I wonder what you are! \\n\\t\\t Up above the world so high,\\n \\t\\t Like a diamond in the sky.\\nTwinkle, twinkle, little star,  \\n\\t How I wonder what you are!\");"
   ]
  },
  {
   "cell_type": "code",
   "execution_count": 2,
   "id": "06f56d77",
   "metadata": {},
   "outputs": [
    {
     "name": "stdout",
     "output_type": "stream",
     "text": [
      "3.8.8 (default, Apr 13 2021, 15:08:03) [MSC v.1916 64 bit (AMD64)]\n"
     ]
    }
   ],
   "source": [
    "\"\"\" Q2. Write a Python program to get the Python version you are using.\"\"\"\n",
    "import sys\n",
    "print(sys.version);"
   ]
  },
  {
   "cell_type": "code",
   "execution_count": 3,
   "id": "374dc161",
   "metadata": {},
   "outputs": [
    {
     "name": "stdout",
     "output_type": "stream",
     "text": [
      "Current date and time : \n",
      "2021-10-23 09:59:51\n"
     ]
    }
   ],
   "source": [
    "\"\"\" Q3. Write a Python program to display the current date and time.\"\"\"\n",
    "import datetime\n",
    "now = datetime.datetime.now()\n",
    "print (\"Current date and time : \")\n",
    "print (now.strftime(\"%Y-%m-%d %H:%M:%S\"));"
   ]
  },
  {
   "cell_type": "code",
   "execution_count": 4,
   "id": "90d2fb3a",
   "metadata": {},
   "outputs": [
    {
     "name": "stdout",
     "output_type": "stream",
     "text": [
      "Input the radius of the circle : 4\n",
      "The area of the circle with radius 4.0 is: 50.26548245743669\n"
     ]
    }
   ],
   "source": [
    "\"\"\" Q4. Write a Python program which accepts the radius of a circle from the user and compute\n",
    "the area.\"\"\"\n",
    "\n",
    "from math import pi\n",
    "r = float(input (\"Input the radius of the circle : \"))\n",
    "print (\"The area of the circle with radius \" + str(r) + \" is: \" + str(pi * r**2));"
   ]
  },
  {
   "cell_type": "code",
   "execution_count": 5,
   "id": "b6f89483",
   "metadata": {},
   "outputs": [
    {
     "name": "stdout",
     "output_type": "stream",
     "text": [
      "nahK rimA dammahuM\n"
     ]
    }
   ],
   "source": [
    "\"\"\" Q5. Write a Python program which accepts the user's first and last name and print them in\n",
    "reverse order with a space between them. \"\"\"\n",
    "\n",
    "stringReverse = \"Muhammad Amir Khan\"[::-1]\n",
    "print(stringReverse);"
   ]
  },
  {
   "cell_type": "code",
   "execution_count": 6,
   "id": "ccbcd20f",
   "metadata": {},
   "outputs": [
    {
     "name": "stdout",
     "output_type": "stream",
     "text": [
      "enter numberOne 5\n",
      "enter numberTwo 4\n",
      "9\n"
     ]
    }
   ],
   "source": [
    "\"\"\" Q6. Write a python program which takes two inputs from user and print them addition.\"\"\"\n",
    "\n",
    "numberOne = int(input(\"enter numberOne \"))\n",
    "numberTwo = int(input(\"enter numberTwo \"))\n",
    "Addition = numberOne + numberTwo\n",
    "print(Addition );"
   ]
  }
 ],
 "metadata": {
  "kernelspec": {
   "display_name": "Python 3",
   "language": "python",
   "name": "python3"
  },
  "language_info": {
   "codemirror_mode": {
    "name": "ipython",
    "version": 3
   },
   "file_extension": ".py",
   "mimetype": "text/x-python",
   "name": "python",
   "nbconvert_exporter": "python",
   "pygments_lexer": "ipython3",
   "version": "3.8.8"
  }
 },
 "nbformat": 4,
 "nbformat_minor": 5
}
