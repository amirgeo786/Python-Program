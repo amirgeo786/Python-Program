{
 "cells": [
  {
   "cell_type": "code",
   "execution_count": 1,
   "id": "6c7d371a",
   "metadata": {},
   "outputs": [
    {
     "name": "stdout",
     "output_type": "stream",
     "text": [
      "Twinkle, twinkle, little star, \n",
      "\t How I wonder what you are! \n",
      "\t\t Up above the world so high,\n",
      " \t\t Like a diamond in the sky.\n",
      "Twinkle, twinkle, little star,  \n",
      "\t How I wonder what you are!\n"
     ]
    }
   ],
   "source": [
    "\"\"\" Q1. Write a Python program to print the following string in a specific format (see the\n",
    "output).\n",
    "\n",
    "Twinkle, twinkle, little star,\n",
    "How I wonder what you are!\n",
    "Up above the world so high,\n",
    "Like a diamond in the sky.\n",
    "Twinkle, twinkle, little star,\n",
    "How I wonder what you are\n",
    "\"\"\"\n",
    "print(\"Twinkle, twinkle, little star, \\n\\t How I wonder what you are! \\n\\t\\t Up above the world so high,\\n \\t\\t Like a diamond in the sky.\\nTwinkle, twinkle, little star,  \\n\\t How I wonder what you are!\");"
   ]
  },
  {
   "cell_type": "code",
   "execution_count": 2,
   "id": "c511bd45",
   "metadata": {},
   "outputs": [
    {
     "name": "stdout",
     "output_type": "stream",
     "text": [
      "3.8.8 (default, Apr 13 2021, 15:08:03) [MSC v.1916 64 bit (AMD64)]\n"
     ]
    }
   ],
   "source": [
    "\"\"\" Q2. Write a Python program to get the Python version you are using.\"\"\"\n",
    "import sys\n",
    "print(sys.version);"
   ]
  },
  {
   "cell_type": "code",
   "execution_count": 3,
   "id": "f64e1037",
   "metadata": {},
   "outputs": [
    {
     "name": "stdout",
     "output_type": "stream",
     "text": [
      "Current date and time : \n",
      "2021-10-23 09:59:51\n"
     ]
    }
   ],
   "source": [
    "\"\"\" Q3. Write a Python program to display the current date and time.\"\"\"\n",
    "import datetime\n",
    "now = datetime.datetime.now()\n",
    "print (\"Current date and time : \")\n",
    "print (now.strftime(\"%Y-%m-%d %H:%M:%S\"));"
   ]
  },
  {
   "cell_type": "code",
   "execution_count": 4,
   "id": "547523e7",
   "metadata": {},
   "outputs": [
    {
     "name": "stdout",
     "output_type": "stream",
     "text": [
      "Input the radius of the circle : 4\n",
      "The area of the circle with radius 4.0 is: 50.26548245743669\n"
     ]
    }
   ],
   "source": [
    "\"\"\" Q4. Write a Python program which accepts the radius of a circle from the user and compute\n",
    "the area.\"\"\"\n",
    "\n",
    "from math import pi\n",
    "r = float(input (\"Input the radius of the circle : \"))\n",
    "print (\"The area of the circle with radius \" + str(r) + \" is: \" + str(pi * r**2));"
   ]
  },
  {
   "cell_type": "code",
   "execution_count": 5,
   "id": "1e4c86e9",
   "metadata": {},
   "outputs": [
    {
     "name": "stdout",
     "output_type": "stream",
     "text": [
      "nahK rimA dammahuM\n"
     ]
    }
   ],
   "source": [
    "\"\"\" Q5. Write a Python program which accepts the user's first and last name and print them in\n",
    "reverse order with a space between them. \"\"\"\n",
    "\n",
    "stringReverse = \"Muhammad Amir Khan\"[::-1]\n",
    "print(stringReverse);"
   ]
  },
  {
   "cell_type": "code",
   "execution_count": 6,
   "id": "1345e5d3",
   "metadata": {},
   "outputs": [
    {
     "name": "stdout",
     "output_type": "stream",
     "text": [
      "enter numberOne 5\n",
      "enter numberTwo 4\n",
      "9\n"
     ]
    }
   ],
   "source": [
    "\"\"\" Q6. Write a python program which takes two inputs from user and print them addition.\"\"\"\n",
    "\n",
    "numberOne = int(input(\"enter numberOne \"))\n",
    "numberTwo = int(input(\"enter numberTwo \"))\n",
    "Addition = numberOne + numberTwo\n",
    "print(Addition );"
   ]
  },
  {
   "cell_type": "code",
   "execution_count": 7,
   "id": "51df723e",
   "metadata": {},
   "outputs": [
    {
     "name": "stdout",
     "output_type": "stream",
     "text": [
      "Enter your Math Marks 90\n",
      "Enter your Urdu Marks 80\n",
      "Enter your English Marks 90\n",
      "Enter your Chemistry Marks 80\n",
      "Enter your Islamiat Marks 90\n",
      "430\n",
      "500\n",
      "86.0\n",
      "your grade is A+\n"
     ]
    }
   ],
   "source": [
    "\"\"\" Q7) Write a program which takes 5 inputs from user for different subject’s marks, total it\n",
    "and generate mark sheet using grades. \"\"\"\n",
    "\n",
    "math = int(input(\"Enter your Math Marks \"))\n",
    "urdu = int(input(\"Enter your Urdu Marks \"))\n",
    "eng = int(input(\"Enter your English Marks \"))\n",
    "chemistry = int(input(\"Enter your Chemistry Marks \"))\n",
    "isl = int(input(\"Enter your Islamiat Marks \"))\n",
    "\n",
    "Obtain_Marks = math + urdu + eng + chemistry + isl;\n",
    "Total_Marks = 500;\n",
    "percentage = Obtain_Marks / Total_Marks * 100;\n",
    "print (Obtain_Marks);\n",
    "print (Total_Marks);\n",
    "print (percentage);\n",
    "if   percentage < 33:\n",
    "     print(\"You are fail\");\n",
    "elif percentage < 100 and percentage > 80:\n",
    "     print(\"your grade is A+\");\n",
    "elif percentage < 80 and percentage > 70:\n",
    "     print(\"your grade is A\");\n",
    "elif percentage < 70 and percentage > 60:\n",
    "     print(\"your grade is B\");\n",
    "elif percentage < 60 and percentage > 50:\n",
    "     print(\"your grade is C\");\n",
    "elif percentage < 50 and percentage > 40:\n",
    "     print(\"your grade is D\");\n",
    "else:\n",
    "     print(\"enter appropriate percentage\");"
   ]
  },
  {
   "cell_type": "code",
   "execution_count": 8,
   "id": "0d7cf567",
   "metadata": {},
   "outputs": [
    {
     "name": "stdout",
     "output_type": "stream",
     "text": [
      "enter number \t7\n",
      "Its Odd\n"
     ]
    }
   ],
   "source": [
    "\"\"\" Q8. Write a program which take input from user and identify that the given number is even\n",
    "or odd?  \"\"\" \n",
    "\n",
    "evenOrOdd = int(input(\"enter number \\t\"))\n",
    "if(evenOrOdd%2==0):\n",
    "    print(\"Its Even\");\n",
    "else:\n",
    "     print(\"Its Odd\");"
   ]
  },
  {
   "cell_type": "code",
   "execution_count": 9,
   "id": "bfb645a7",
   "metadata": {},
   "outputs": [
    {
     "name": "stdout",
     "output_type": "stream",
     "text": [
      "3\n"
     ]
    }
   ],
   "source": [
    "\"\"\" Q9. Write a program which print the length of the list. \"\"\"\n",
    "\n",
    "list = [\"Muhammad\",\"Amir\",\"Khan\"]\n",
    "print(len(list));"
   ]
  },
  {
   "cell_type": "code",
   "execution_count": 10,
   "id": "626f8a8b",
   "metadata": {},
   "outputs": [
    {
     "name": "stdout",
     "output_type": "stream",
     "text": [
      "156\n"
     ]
    }
   ],
   "source": [
    "\"\"\" Q10. Write a Python program to sum all the numeric items in a list. \"\"\"\n",
    "\n",
    "list = [2,10,20,3,11,4,6,81,19]\n",
    "print(sum(list));"
   ]
  },
  {
   "cell_type": "code",
   "execution_count": 11,
   "id": "2567971d",
   "metadata": {},
   "outputs": [
    {
     "name": "stdout",
     "output_type": "stream",
     "text": [
      "81\n"
     ]
    }
   ],
   "source": [
    "\"\"\" Q11) Write a Python program to get the largest number from a numeric list.\"\"\"\n",
    "\n",
    "list = [15,32,53,81,76,5,12,7,16,78]\n",
    "print(max(list));"
   ]
  },
  {
   "cell_type": "code",
   "execution_count": 12,
   "id": "09c7fba4",
   "metadata": {},
   "outputs": [
    {
     "name": "stdout",
     "output_type": "stream",
     "text": [
      "1\n",
      "1\n",
      "2\n",
      "3\n"
     ]
    }
   ],
   "source": [
    "\"\"\" Q12. Take a list, say for example this one:\n",
    "a = [1, 1, 2, 3, 5, 8, 13, 21, 34, 55, 89]\n",
    "Write a program that prints out all the elements of the list that are less than 5.\n",
    "\"\"\" \n",
    "\n",
    "list =  [1, 1, 2, 3, 5, 8, 13, 21, 34, 55, 89]\n",
    "for i in list:\n",
    "    if i < 5:\n",
    "        print(i);"
   ]
  },
  {
   "cell_type": "code",
   "execution_count": null,
   "id": "8cde4c36",
   "metadata": {},
   "outputs": [],
   "source": []
  }
 ],
 "metadata": {
  "kernelspec": {
   "display_name": "Python 3",
   "language": "python",
   "name": "python3"
  },
  "language_info": {
   "codemirror_mode": {
    "name": "ipython",
    "version": 3
   },
   "file_extension": ".py",
   "mimetype": "text/x-python",
   "name": "python",
   "nbconvert_exporter": "python",
   "pygments_lexer": "ipython3",
   "version": "3.8.8"
  }
 },
 "nbformat": 4,
 "nbformat_minor": 5
}
